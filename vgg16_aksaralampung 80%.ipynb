{
  "nbformat": 4,
  "nbformat_minor": 0,
  "metadata": {
    "colab": {
      "name": "Untitled9.ipynb",
      "provenance": [],
      "mount_file_id": "1jHUCG6zAbWHsnmfNuEIJ2t_OePhRUrWm",
      "authorship_tag": "ABX9TyNPmEsaqaUP2z79XwLhntvH",
      "include_colab_link": true
    },
    "kernelspec": {
      "name": "python3",
      "display_name": "Python 3"
    },
    "language_info": {
      "name": "python"
    },
    "accelerator": "GPU"
  },
  "cells": [
    {
      "cell_type": "markdown",
      "metadata": {
        "id": "view-in-github",
        "colab_type": "text"
      },
      "source": [
        "<a href=\"https://colab.research.google.com/github/zinm/Android/blob/master/vgg16_aksaralampung%2080%25.ipynb\" target=\"_parent\"><img src=\"https://colab.research.google.com/assets/colab-badge.svg\" alt=\"Open In Colab\"/></a>"
      ]
    },
    {
      "cell_type": "code",
      "metadata": {
        "id": "LrzuXaTi7C_5"
      },
      "source": [
        "from __future__ import print_function\n",
        "import keras\n",
        "from keras.preprocessing.image import ImageDataGenerator\n",
        "from keras.models import Sequential\n",
        "from keras.layers import Dense, Dropout, Activation, Flatten, Conv2D, MaxPooling2D\n",
        "import os\n",
        "import matplotlib.pyplot as plt\n",
        "import sklearn\n",
        "from sklearn.metrics import classification_report, confusion_matrix\n",
        "import numpy as np\n",
        "from keras.models import load_model\n",
        "\n",
        "from keras.optimizers import RMSprop\n",
        "from keras.callbacks import ModelCheckpoint, EarlyStopping, ReduceLROnPlateau\n",
        "\n",
        "from keras.preprocessing import image\n",
        "from os import listdir\n",
        "from os.path import isfile, join\n",
        "import re\n",
        "import matplotlib.image as mpimg"
      ],
      "execution_count": 1,
      "outputs": []
    },
    {
      "cell_type": "code",
      "metadata": {
        "colab": {
          "base_uri": "https://localhost:8080/"
        },
        "id": "hdNE2PfQ7LFy",
        "outputId": "de557975-319a-4da1-9171-67234b80e0fe"
      },
      "source": [
        "from keras.applications import VGG16\n",
        "\n",
        "# VGG16 was designed to work on 224 x 224 pixel input images sizes\n",
        "img_rows = 64\n",
        "img_cols = 64\n",
        "\n",
        "# Re-loads the VGG16 model without the top or FC layers\n",
        "vgg16 = VGG16(weights = 'imagenet', include_top = False,  input_shape = (img_rows, img_cols, 3))\n",
        "\n",
        "# Here we freeze the last 4 layers, layers are set to trainable as True by default\n",
        "for layer in vgg16.layers:\n",
        "    layer.trainable = False\n",
        "\n",
        "for (i,layer) in enumerate(vgg16.layers):\n",
        "    print(str(i) + \" \"+ layer.__class__.__name__, layer.trainable)"
      ],
      "execution_count": 12,
      "outputs": [
        {
          "output_type": "stream",
          "text": [
            "0 InputLayer False\n",
            "1 Conv2D False\n",
            "2 Conv2D False\n",
            "3 MaxPooling2D False\n",
            "4 Conv2D False\n",
            "5 Conv2D False\n",
            "6 MaxPooling2D False\n",
            "7 Conv2D False\n",
            "8 Conv2D False\n",
            "9 Conv2D False\n",
            "10 MaxPooling2D False\n",
            "11 Conv2D False\n",
            "12 Conv2D False\n",
            "13 Conv2D False\n",
            "14 MaxPooling2D False\n",
            "15 Conv2D False\n",
            "16 Conv2D False\n",
            "17 Conv2D False\n",
            "18 MaxPooling2D False\n"
          ],
          "name": "stdout"
        }
      ]
    },
    {
      "cell_type": "code",
      "metadata": {
        "colab": {
          "base_uri": "https://localhost:8080/"
        },
        "id": "gyXpFFfa7Qd9",
        "outputId": "369a52f2-e31f-42f3-dd62-18dcc085af17"
      },
      "source": [
        "train_data_dir = '/content/drive/MyDrive/datset/train'\n",
        "validation_data_dir = '/content/drive/MyDrive/datset/valid'\n",
        "\n",
        "train_datagen = ImageDataGenerator(rescale=1./255, rotation_range=20, width_shift_range=0.2, height_shift_range=0.2,\n",
        "                                   horizontal_flip=True, fill_mode='nearest')\n",
        " \n",
        "validation_datagen = ImageDataGenerator(rescale=1./255)\n",
        " \n",
        "train_batchsize = 64\n",
        "val_batchsize = 64\n",
        " \n",
        "train_generator = train_datagen.flow_from_directory(train_data_dir, target_size=(img_rows, img_cols),\n",
        "                                                    batch_size=train_batchsize, class_mode='categorical')\n",
        " \n",
        "validation_generator = validation_datagen.flow_from_directory(validation_data_dir, target_size=(img_rows, img_cols),\n",
        "                                                              batch_size=val_batchsize, class_mode='categorical', shuffle=False)"
      ],
      "execution_count": 14,
      "outputs": [
        {
          "output_type": "stream",
          "text": [
            "Found 4826 images belonging to 20 classes.\n",
            "Found 216 images belonging to 20 classes.\n"
          ],
          "name": "stdout"
        }
      ]
    },
    {
      "cell_type": "code",
      "metadata": {
        "id": "TrEU8T7g7hxI"
      },
      "source": [
        "def addTopModel(bottom_model, num_classes, D=256):\n",
        "    \"\"\"creates the top or head of the model that will be \n",
        "    placed ontop of the bottom layers\"\"\"\n",
        "    top_model = bottom_model.output\n",
        "    top_model = Flatten(name = \"flatten\")(top_model)\n",
        "    top_model = Dense(D, activation = \"relu\")(top_model)\n",
        "    top_model = Dropout(0.5)(top_model)\n",
        "    top_model = Dense(num_classes, activation = \"softmax\")(top_model)\n",
        "    return top_model"
      ],
      "execution_count": 16,
      "outputs": []
    },
    {
      "cell_type": "code",
      "metadata": {
        "colab": {
          "base_uri": "https://localhost:8080/"
        },
        "id": "FL19yGia7lJ3",
        "outputId": "8997c539-8afd-4513-bc31-ef79261eb3be"
      },
      "source": [
        "from keras.layers.normalization import BatchNormalization\n",
        "from keras.models import Model\n",
        "\n",
        "num_classes = 20\n",
        "\n",
        "FC_Head = addTopModel(vgg16, num_classes)\n",
        "\n",
        "model = Model(inputs=vgg16.input, outputs=FC_Head)\n",
        "\n",
        "model.summary()\n"
      ],
      "execution_count": 17,
      "outputs": [
        {
          "output_type": "stream",
          "text": [
            "Model: \"model_1\"\n",
            "_________________________________________________________________\n",
            "Layer (type)                 Output Shape              Param #   \n",
            "=================================================================\n",
            "input_2 (InputLayer)         [(None, 64, 64, 3)]       0         \n",
            "_________________________________________________________________\n",
            "block1_conv1 (Conv2D)        (None, 64, 64, 64)        1792      \n",
            "_________________________________________________________________\n",
            "block1_conv2 (Conv2D)        (None, 64, 64, 64)        36928     \n",
            "_________________________________________________________________\n",
            "block1_pool (MaxPooling2D)   (None, 32, 32, 64)        0         \n",
            "_________________________________________________________________\n",
            "block2_conv1 (Conv2D)        (None, 32, 32, 128)       73856     \n",
            "_________________________________________________________________\n",
            "block2_conv2 (Conv2D)        (None, 32, 32, 128)       147584    \n",
            "_________________________________________________________________\n",
            "block2_pool (MaxPooling2D)   (None, 16, 16, 128)       0         \n",
            "_________________________________________________________________\n",
            "block3_conv1 (Conv2D)        (None, 16, 16, 256)       295168    \n",
            "_________________________________________________________________\n",
            "block3_conv2 (Conv2D)        (None, 16, 16, 256)       590080    \n",
            "_________________________________________________________________\n",
            "block3_conv3 (Conv2D)        (None, 16, 16, 256)       590080    \n",
            "_________________________________________________________________\n",
            "block3_pool (MaxPooling2D)   (None, 8, 8, 256)         0         \n",
            "_________________________________________________________________\n",
            "block4_conv1 (Conv2D)        (None, 8, 8, 512)         1180160   \n",
            "_________________________________________________________________\n",
            "block4_conv2 (Conv2D)        (None, 8, 8, 512)         2359808   \n",
            "_________________________________________________________________\n",
            "block4_conv3 (Conv2D)        (None, 8, 8, 512)         2359808   \n",
            "_________________________________________________________________\n",
            "block4_pool (MaxPooling2D)   (None, 4, 4, 512)         0         \n",
            "_________________________________________________________________\n",
            "block5_conv1 (Conv2D)        (None, 4, 4, 512)         2359808   \n",
            "_________________________________________________________________\n",
            "block5_conv2 (Conv2D)        (None, 4, 4, 512)         2359808   \n",
            "_________________________________________________________________\n",
            "block5_conv3 (Conv2D)        (None, 4, 4, 512)         2359808   \n",
            "_________________________________________________________________\n",
            "block5_pool (MaxPooling2D)   (None, 2, 2, 512)         0         \n",
            "_________________________________________________________________\n",
            "flatten (Flatten)            (None, 2048)              0         \n",
            "_________________________________________________________________\n",
            "dense_2 (Dense)              (None, 256)               524544    \n",
            "_________________________________________________________________\n",
            "dropout_1 (Dropout)          (None, 256)               0         \n",
            "_________________________________________________________________\n",
            "dense_3 (Dense)              (None, 20)                5140      \n",
            "=================================================================\n",
            "Total params: 15,244,372\n",
            "Trainable params: 529,684\n",
            "Non-trainable params: 14,714,688\n",
            "_________________________________________________________________\n"
          ],
          "name": "stdout"
        }
      ]
    },
    {
      "cell_type": "code",
      "metadata": {
        "colab": {
          "base_uri": "https://localhost:8080/"
        },
        "id": "EEqFnOQC7pln",
        "outputId": "8dbb44d8-86fb-4f9f-ddcf-fb043bf2315f"
      },
      "source": [
        "checkpoint = ModelCheckpoint(\"trained_model/aksara.h5\", monitor=\"val_loss\", mode=\"min\", save_best_only = True,\n",
        "                             verbose=1)\n",
        "\n",
        "earlystop = EarlyStopping(monitor = 'val_loss',  min_delta = 0,  patience = 3, verbose = 1, restore_best_weights = True)\n",
        "\n",
        "reduce_lr = ReduceLROnPlateau(monitor = 'val_loss', factor = 0.2, patience = 3, verbose = 1, min_delta = 0.0001)\n",
        "\n",
        "callbacks = [checkpoint, reduce_lr]\n",
        "\n",
        "model.compile(loss = 'categorical_crossentropy', optimizer = RMSprop(lr = 0.001), metrics = ['accuracy'])\n",
        "\n",
        "nb_train_samples = 4826\n",
        "nb_validation_samples = 216\n",
        "epochs = 50\n",
        "batch_size = 128\n",
        "\n",
        "history = model.fit_generator(train_generator, steps_per_epoch = nb_train_samples // batch_size, epochs = epochs, \n",
        "                              callbacks = callbacks, validation_data = validation_generator,\n",
        "                              validation_steps = nb_validation_samples // batch_size)"
      ],
      "execution_count": 18,
      "outputs": [
        {
          "output_type": "stream",
          "text": [
            "/usr/local/lib/python3.7/dist-packages/tensorflow/python/keras/engine/training.py:1844: UserWarning: `Model.fit_generator` is deprecated and will be removed in a future version. Please use `Model.fit`, which supports generators.\n",
            "  warnings.warn('`Model.fit_generator` is deprecated and '\n"
          ],
          "name": "stderr"
        },
        {
          "output_type": "stream",
          "text": [
            "Epoch 1/50\n",
            "37/37 [==============================] - 68s 2s/step - loss: 2.7875 - accuracy: 0.1774 - val_loss: 1.5385 - val_accuracy: 0.5781\n",
            "\n",
            "Epoch 00001: val_loss improved from inf to 1.53850, saving model to trained_model/aksara.h5\n",
            "Epoch 2/50\n",
            "37/37 [==============================] - 8s 216ms/step - loss: 1.8223 - accuracy: 0.4223 - val_loss: 1.0558 - val_accuracy: 0.7188\n",
            "\n",
            "Epoch 00002: val_loss improved from 1.53850 to 1.05582, saving model to trained_model/aksara.h5\n",
            "Epoch 3/50\n",
            "37/37 [==============================] - 8s 218ms/step - loss: 1.4878 - accuracy: 0.5313 - val_loss: 0.7121 - val_accuracy: 0.8281\n",
            "\n",
            "Epoch 00003: val_loss improved from 1.05582 to 0.71206, saving model to trained_model/aksara.h5\n",
            "Epoch 4/50\n",
            "37/37 [==============================] - 8s 214ms/step - loss: 1.2656 - accuracy: 0.6198 - val_loss: 0.8284 - val_accuracy: 0.7656\n",
            "\n",
            "Epoch 00004: val_loss did not improve from 0.71206\n",
            "Epoch 5/50\n",
            "37/37 [==============================] - 8s 219ms/step - loss: 1.1600 - accuracy: 0.6434 - val_loss: 0.5877 - val_accuracy: 0.8125\n",
            "\n",
            "Epoch 00005: val_loss improved from 0.71206 to 0.58774, saving model to trained_model/aksara.h5\n",
            "Epoch 6/50\n",
            "37/37 [==============================] - 8s 217ms/step - loss: 1.0523 - accuracy: 0.6703 - val_loss: 0.5858 - val_accuracy: 0.8281\n",
            "\n",
            "Epoch 00006: val_loss improved from 0.58774 to 0.58576, saving model to trained_model/aksara.h5\n",
            "Epoch 7/50\n",
            "37/37 [==============================] - 8s 218ms/step - loss: 0.9588 - accuracy: 0.6830 - val_loss: 0.5704 - val_accuracy: 0.8438\n",
            "\n",
            "Epoch 00007: val_loss improved from 0.58576 to 0.57044, saving model to trained_model/aksara.h5\n",
            "Epoch 8/50\n",
            "37/37 [==============================] - 8s 215ms/step - loss: 0.9372 - accuracy: 0.6986 - val_loss: 0.4640 - val_accuracy: 0.8906\n",
            "\n",
            "Epoch 00008: val_loss improved from 0.57044 to 0.46398, saving model to trained_model/aksara.h5\n",
            "Epoch 9/50\n",
            "37/37 [==============================] - 8s 220ms/step - loss: 0.8587 - accuracy: 0.7274 - val_loss: 0.5128 - val_accuracy: 0.8594\n",
            "\n",
            "Epoch 00009: val_loss did not improve from 0.46398\n",
            "Epoch 10/50\n",
            "37/37 [==============================] - 8s 219ms/step - loss: 0.8202 - accuracy: 0.7369 - val_loss: 0.4685 - val_accuracy: 0.8906\n",
            "\n",
            "Epoch 00010: val_loss did not improve from 0.46398\n",
            "Epoch 11/50\n",
            "37/37 [==============================] - 8s 215ms/step - loss: 0.8283 - accuracy: 0.7308 - val_loss: 0.3707 - val_accuracy: 0.8594\n",
            "\n",
            "Epoch 00011: val_loss improved from 0.46398 to 0.37067, saving model to trained_model/aksara.h5\n",
            "Epoch 12/50\n",
            "37/37 [==============================] - 8s 214ms/step - loss: 0.7519 - accuracy: 0.7471 - val_loss: 0.4589 - val_accuracy: 0.8281\n",
            "\n",
            "Epoch 00012: val_loss did not improve from 0.37067\n",
            "Epoch 13/50\n",
            "37/37 [==============================] - 8s 214ms/step - loss: 0.7257 - accuracy: 0.7668 - val_loss: 0.4075 - val_accuracy: 0.8750\n",
            "\n",
            "Epoch 00013: val_loss did not improve from 0.37067\n",
            "Epoch 14/50\n",
            "37/37 [==============================] - 8s 214ms/step - loss: 0.7230 - accuracy: 0.7761 - val_loss: 0.4072 - val_accuracy: 0.8750\n",
            "\n",
            "Epoch 00014: val_loss did not improve from 0.37067\n",
            "\n",
            "Epoch 00014: ReduceLROnPlateau reducing learning rate to 0.00020000000949949026.\n",
            "Epoch 15/50\n",
            "37/37 [==============================] - 8s 217ms/step - loss: 0.6519 - accuracy: 0.7996 - val_loss: 0.3206 - val_accuracy: 0.9062\n",
            "\n",
            "Epoch 00015: val_loss improved from 0.37067 to 0.32059, saving model to trained_model/aksara.h5\n",
            "Epoch 16/50\n",
            "37/37 [==============================] - 8s 218ms/step - loss: 0.6493 - accuracy: 0.7940 - val_loss: 0.3391 - val_accuracy: 0.8906\n",
            "\n",
            "Epoch 00016: val_loss did not improve from 0.32059\n",
            "Epoch 17/50\n",
            "37/37 [==============================] - 8s 221ms/step - loss: 0.6134 - accuracy: 0.8057 - val_loss: 0.3122 - val_accuracy: 0.9219\n",
            "\n",
            "Epoch 00017: val_loss improved from 0.32059 to 0.31221, saving model to trained_model/aksara.h5\n",
            "Epoch 18/50\n",
            "37/37 [==============================] - 8s 220ms/step - loss: 0.5944 - accuracy: 0.8126 - val_loss: 0.3448 - val_accuracy: 0.9062\n",
            "\n",
            "Epoch 00018: val_loss did not improve from 0.31221\n",
            "Epoch 19/50\n",
            "37/37 [==============================] - 8s 225ms/step - loss: 0.6088 - accuracy: 0.8005 - val_loss: 0.3648 - val_accuracy: 0.8750\n",
            "\n",
            "Epoch 00019: val_loss did not improve from 0.31221\n",
            "Epoch 20/50\n",
            "37/37 [==============================] - 8s 217ms/step - loss: 0.5605 - accuracy: 0.8257 - val_loss: 0.3506 - val_accuracy: 0.8750\n",
            "\n",
            "Epoch 00020: val_loss did not improve from 0.31221\n",
            "\n",
            "Epoch 00020: ReduceLROnPlateau reducing learning rate to 4.0000001899898055e-05.\n",
            "Epoch 21/50\n",
            "37/37 [==============================] - 8s 216ms/step - loss: 0.5837 - accuracy: 0.8291 - val_loss: 0.3500 - val_accuracy: 0.8750\n",
            "\n",
            "Epoch 00021: val_loss did not improve from 0.31221\n",
            "Epoch 22/50\n",
            "37/37 [==============================] - 8s 214ms/step - loss: 0.5580 - accuracy: 0.8312 - val_loss: 0.3433 - val_accuracy: 0.8750\n",
            "\n",
            "Epoch 00022: val_loss did not improve from 0.31221\n",
            "Epoch 23/50\n",
            "37/37 [==============================] - 8s 213ms/step - loss: 0.5840 - accuracy: 0.8200 - val_loss: 0.3307 - val_accuracy: 0.9062\n",
            "\n",
            "Epoch 00023: val_loss did not improve from 0.31221\n",
            "\n",
            "Epoch 00023: ReduceLROnPlateau reducing learning rate to 8.000000525498762e-06.\n",
            "Epoch 24/50\n",
            "37/37 [==============================] - 8s 212ms/step - loss: 0.5343 - accuracy: 0.8373 - val_loss: 0.3286 - val_accuracy: 0.9219\n",
            "\n",
            "Epoch 00024: val_loss did not improve from 0.31221\n",
            "Epoch 25/50\n",
            "37/37 [==============================] - 8s 215ms/step - loss: 0.5386 - accuracy: 0.8428 - val_loss: 0.3302 - val_accuracy: 0.9219\n",
            "\n",
            "Epoch 00025: val_loss did not improve from 0.31221\n",
            "Epoch 26/50\n",
            "37/37 [==============================] - 8s 210ms/step - loss: 0.5917 - accuracy: 0.8195 - val_loss: 0.3261 - val_accuracy: 0.9219\n",
            "\n",
            "Epoch 00026: val_loss did not improve from 0.31221\n",
            "\n",
            "Epoch 00026: ReduceLROnPlateau reducing learning rate to 1.6000001778593287e-06.\n",
            "Epoch 27/50\n",
            "37/37 [==============================] - 8s 219ms/step - loss: 0.5633 - accuracy: 0.8231 - val_loss: 0.3256 - val_accuracy: 0.9219\n",
            "\n",
            "Epoch 00027: val_loss did not improve from 0.31221\n",
            "Epoch 28/50\n",
            "37/37 [==============================] - 8s 215ms/step - loss: 0.5641 - accuracy: 0.8165 - val_loss: 0.3254 - val_accuracy: 0.9219\n",
            "\n",
            "Epoch 00028: val_loss did not improve from 0.31221\n",
            "Epoch 29/50\n",
            "37/37 [==============================] - 8s 218ms/step - loss: 0.5531 - accuracy: 0.8355 - val_loss: 0.3255 - val_accuracy: 0.9219\n",
            "\n",
            "Epoch 00029: val_loss did not improve from 0.31221\n",
            "\n",
            "Epoch 00029: ReduceLROnPlateau reducing learning rate to 3.200000264769187e-07.\n",
            "Epoch 30/50\n",
            "37/37 [==============================] - 8s 216ms/step - loss: 0.5884 - accuracy: 0.8295 - val_loss: 0.3255 - val_accuracy: 0.9219\n",
            "\n",
            "Epoch 00030: val_loss did not improve from 0.31221\n",
            "Epoch 31/50\n",
            "37/37 [==============================] - 8s 211ms/step - loss: 0.5759 - accuracy: 0.8250 - val_loss: 0.3256 - val_accuracy: 0.9219\n",
            "\n",
            "Epoch 00031: val_loss did not improve from 0.31221\n",
            "Epoch 32/50\n",
            "37/37 [==============================] - 8s 215ms/step - loss: 0.6026 - accuracy: 0.8160 - val_loss: 0.3255 - val_accuracy: 0.9219\n",
            "\n",
            "Epoch 00032: val_loss did not improve from 0.31221\n",
            "\n",
            "Epoch 00032: ReduceLROnPlateau reducing learning rate to 6.400000529538374e-08.\n",
            "Epoch 33/50\n",
            "37/37 [==============================] - 8s 210ms/step - loss: 0.5612 - accuracy: 0.8259 - val_loss: 0.3256 - val_accuracy: 0.9219\n",
            "\n",
            "Epoch 00033: val_loss did not improve from 0.31221\n",
            "Epoch 34/50\n",
            "37/37 [==============================] - 8s 216ms/step - loss: 0.5791 - accuracy: 0.8366 - val_loss: 0.3256 - val_accuracy: 0.9219\n",
            "\n",
            "Epoch 00034: val_loss did not improve from 0.31221\n",
            "Epoch 35/50\n",
            "37/37 [==============================] - 8s 220ms/step - loss: 0.5975 - accuracy: 0.8142 - val_loss: 0.3256 - val_accuracy: 0.9219\n",
            "\n",
            "Epoch 00035: val_loss did not improve from 0.31221\n",
            "\n",
            "Epoch 00035: ReduceLROnPlateau reducing learning rate to 1.2800001059076749e-08.\n",
            "Epoch 36/50\n",
            "37/37 [==============================] - 8s 212ms/step - loss: 0.5431 - accuracy: 0.8285 - val_loss: 0.3256 - val_accuracy: 0.9219\n",
            "\n",
            "Epoch 00036: val_loss did not improve from 0.31221\n",
            "Epoch 37/50\n",
            "37/37 [==============================] - 8s 216ms/step - loss: 0.5654 - accuracy: 0.8390 - val_loss: 0.3256 - val_accuracy: 0.9219\n",
            "\n",
            "Epoch 00037: val_loss did not improve from 0.31221\n",
            "Epoch 38/50\n",
            "37/37 [==============================] - 8s 214ms/step - loss: 0.5645 - accuracy: 0.8274 - val_loss: 0.3256 - val_accuracy: 0.9219\n",
            "\n",
            "Epoch 00038: val_loss did not improve from 0.31221\n",
            "\n",
            "Epoch 00038: ReduceLROnPlateau reducing learning rate to 2.5600002118153498e-09.\n",
            "Epoch 39/50\n",
            "37/37 [==============================] - 8s 211ms/step - loss: 0.5365 - accuracy: 0.8423 - val_loss: 0.3256 - val_accuracy: 0.9219\n",
            "\n",
            "Epoch 00039: val_loss did not improve from 0.31221\n",
            "Epoch 40/50\n",
            "37/37 [==============================] - 8s 212ms/step - loss: 0.6168 - accuracy: 0.8083 - val_loss: 0.3256 - val_accuracy: 0.9219\n",
            "\n",
            "Epoch 00040: val_loss did not improve from 0.31221\n",
            "Epoch 41/50\n",
            "37/37 [==============================] - 8s 220ms/step - loss: 0.5991 - accuracy: 0.8202 - val_loss: 0.3256 - val_accuracy: 0.9219\n",
            "\n",
            "Epoch 00041: val_loss did not improve from 0.31221\n",
            "\n",
            "Epoch 00041: ReduceLROnPlateau reducing learning rate to 5.1200004236307e-10.\n",
            "Epoch 42/50\n",
            "37/37 [==============================] - 8s 216ms/step - loss: 0.5674 - accuracy: 0.8352 - val_loss: 0.3256 - val_accuracy: 0.9219\n",
            "\n",
            "Epoch 00042: val_loss did not improve from 0.31221\n",
            "Epoch 43/50\n",
            "37/37 [==============================] - 8s 213ms/step - loss: 0.5843 - accuracy: 0.8239 - val_loss: 0.3256 - val_accuracy: 0.9219\n",
            "\n",
            "Epoch 00043: val_loss did not improve from 0.31221\n",
            "Epoch 44/50\n",
            "37/37 [==============================] - 8s 214ms/step - loss: 0.5204 - accuracy: 0.8405 - val_loss: 0.3256 - val_accuracy: 0.9219\n",
            "\n",
            "Epoch 00044: val_loss did not improve from 0.31221\n",
            "\n",
            "Epoch 00044: ReduceLROnPlateau reducing learning rate to 1.0240001069306004e-10.\n",
            "Epoch 45/50\n",
            "37/37 [==============================] - 8s 213ms/step - loss: 0.5571 - accuracy: 0.8306 - val_loss: 0.3256 - val_accuracy: 0.9219\n",
            "\n",
            "Epoch 00045: val_loss did not improve from 0.31221\n",
            "Epoch 46/50\n",
            "37/37 [==============================] - 8s 219ms/step - loss: 0.5599 - accuracy: 0.8225 - val_loss: 0.3256 - val_accuracy: 0.9219\n",
            "\n",
            "Epoch 00046: val_loss did not improve from 0.31221\n",
            "Epoch 47/50\n",
            "37/37 [==============================] - 8s 210ms/step - loss: 0.5201 - accuracy: 0.8332 - val_loss: 0.3256 - val_accuracy: 0.9219\n",
            "\n",
            "Epoch 00047: val_loss did not improve from 0.31221\n",
            "\n",
            "Epoch 00047: ReduceLROnPlateau reducing learning rate to 2.0480002416167767e-11.\n",
            "Epoch 48/50\n",
            "37/37 [==============================] - 8s 213ms/step - loss: 0.5397 - accuracy: 0.8346 - val_loss: 0.3256 - val_accuracy: 0.9219\n",
            "\n",
            "Epoch 00048: val_loss did not improve from 0.31221\n",
            "Epoch 49/50\n",
            "37/37 [==============================] - 8s 215ms/step - loss: 0.5666 - accuracy: 0.8152 - val_loss: 0.3256 - val_accuracy: 0.9219\n",
            "\n",
            "Epoch 00049: val_loss did not improve from 0.31221\n",
            "Epoch 50/50\n",
            "37/37 [==============================] - 8s 221ms/step - loss: 0.5675 - accuracy: 0.8204 - val_loss: 0.3256 - val_accuracy: 0.9219\n",
            "\n",
            "Epoch 00050: val_loss did not improve from 0.31221\n",
            "\n",
            "Epoch 00050: ReduceLROnPlateau reducing learning rate to 4.096000622011431e-12.\n"
          ],
          "name": "stdout"
        }
      ]
    },
    {
      "cell_type": "code",
      "metadata": {
        "id": "qWCeYnh271A-"
      },
      "source": [
        "m = load_model('trained_model/aksara.h5')"
      ],
      "execution_count": 19,
      "outputs": []
    },
    {
      "cell_type": "code",
      "metadata": {
        "colab": {
          "base_uri": "https://localhost:8080/"
        },
        "id": "y8SPqT2HGXTg",
        "outputId": "06f50c2e-2dd5-468d-816b-0b66dbcc19ec"
      },
      "source": [
        "class_labels = validation_generator.class_indices\n",
        "class_labels = {v: k for k, v in class_labels.items()}\n",
        "classes = list(class_labels.values())\n",
        "print(class_labels)"
      ],
      "execution_count": 8,
      "outputs": [
        {
          "output_type": "stream",
          "text": [
            "{0: 'a', 1: 'ba', 2: 'ca', 3: 'da', 4: 'ga', 5: 'gha', 6: 'ha', 7: 'ja', 8: 'ka', 9: 'la', 10: 'ma', 11: 'na', 12: 'nga', 13: 'nya', 14: 'pa', 15: 'ra', 16: 'sa', 17: 'ta', 18: 'wa', 19: 'ya'}\n"
          ],
          "name": "stdout"
        }
      ]
    },
    {
      "cell_type": "code",
      "metadata": {
        "colab": {
          "base_uri": "https://localhost:8080/",
          "height": 1000
        },
        "id": "Rutz1wTwGZbO",
        "outputId": "7c977cbd-996e-4c80-a7ae-f023ebc84d76"
      },
      "source": [
        "# checking model on validation data\n",
        "def getRandomImage(path, img_width, img_height):\n",
        "    \"\"\"function loads a random images from a random folder in our validation path \"\"\"\n",
        "    folders = list(filter(lambda x: os.path.isdir(os.path.join(path, x)), os.listdir(path)))\n",
        "    random_directory = np.random.randint(0,len(folders))\n",
        "    path_class = folders[random_directory]\n",
        "    file_path = path + path_class\n",
        "    file_names = [f for f in listdir(file_path) if isfile(join(file_path, f))]\n",
        "    random_file_index = np.random.randint(0,len(file_names))\n",
        "    image_name = file_names[random_file_index]\n",
        "    final_path = file_path + \"/\" + image_name\n",
        "    return image.load_img(final_path, target_size = (img_width, img_height)), final_path, path_class\n",
        "\n",
        "# dimensions of our images\n",
        "img_width, img_height = 64, 64\n",
        "\n",
        "files = []\n",
        "predictions = []\n",
        "true_labels = []\n",
        "\n",
        "# predicting images\n",
        "for i in range(0, 5):\n",
        "    path = '/content/drive/MyDrive/datset/processed_data/val/' \n",
        "    img, final_path, true_label = getRandomImage(path, img_width, img_height)\n",
        "    files.append(final_path)\n",
        "    true_labels.append(true_label)\n",
        "    x = image.img_to_array(img)\n",
        "    x = x * 1./255\n",
        "    x = np.expand_dims(x, axis=0)\n",
        "    images = np.vstack([x])\n",
        "    classes = np.argmax(m.predict(images, batch_size = 10))\n",
        "    predictions.append(classes)\n",
        "    \n",
        "for i in range(0, len(files)):\n",
        "    img=mpimg.imread((files[i]))\n",
        "    print(\"\\n(\",i+1,\")\")\n",
        "    plt.imshow(img)\n",
        "    plt.axis('off')\n",
        "    plt.show()\n",
        "    print(\"Predicted: \",class_labels[predictions[i]])\n",
        "    print(\"True: \",true_labels[i])"
      ],
      "execution_count": 20,
      "outputs": [
        {
          "output_type": "stream",
          "text": [
            "\n",
            "( 1 )\n"
          ],
          "name": "stdout"
        },
        {
          "output_type": "display_data",
          "data": {
            "image/png": "[encoded data removed]",
            "text/plain": [
              "<Figure size 432x288 with 1 Axes>"
            ]
          },
          "metadata": {
            "tags": [],
            "needs_background": "light"
          }
        },
        {
          "output_type": "stream",
          "text": [
            "Predicted:  ca\n",
            "True:  ca\n",
            "\n",
            "( 2 )\n"
          ],
          "name": "stdout"
        },
        {
          "output_type": "display_data",
          "data": {
            "image/png": "[encoded data removed]",
            "text/plain": [
              "<Figure size 432x288 with 1 Axes>"
            ]
          },
          "metadata": {
            "tags": [],
            "needs_background": "light"
          }
        },
        {
          "output_type": "stream",
          "text": [
            "Predicted:  ya\n",
            "True:  ya\n",
            "\n",
            "( 3 )\n"
          ],
          "name": "stdout"
        },
        {
          "output_type": "display_data",
          "data": {
            "image/png": "[encoded data removed]",
            "text/plain": [
              "<Figure size 432x288 with 1 Axes>"
            ]
          },
          "metadata": {
            "tags": [],
            "needs_background": "light"
          }
        },
        {
          "output_type": "stream",
          "text": [
            "Predicted:  pa\n",
            "True:  pa\n",
            "\n",
            "( 4 )\n"
          ],
          "name": "stdout"
        },
        {
          "output_type": "display_data",
          "data": {
            "image/png": "[encoded data removed]",
            "text/plain": [
              "<Figure size 432x288 with 1 Axes>"
            ]
          },
          "metadata": {
            "tags": [],
            "needs_background": "light"
          }
        },
        {
          "output_type": "stream",
          "text": [
            "Predicted:  nya\n",
            "True:  nya\n",
            "\n",
            "( 5 )\n"
          ],
          "name": "stdout"
        },
        {
          "output_type": "display_data",
          "data": {
            "image/png": "[encoded data removed]",
            "text/plain": [
              "<Figure size 432x288 with 1 Axes>"
            ]
          },
          "metadata": {
            "tags": [],
            "needs_background": "light"
          }
        },
        {
          "output_type": "stream",
          "text": [
            "Predicted:  ba\n",
            "True:  ba\n"
          ],
          "name": "stdout"
        }
      ]
    },
    {
      "cell_type": "code",
      "metadata": {
        "id": "iecSX6XaGwOe"
      },
      "source": [
        "def check_1(path):\n",
        "    img=mpimg.imread(path)\n",
        "    plt.imshow(img)\n",
        "    plt.axis('off')\n",
        "    plt.show()\n",
        "    \n",
        "    # prediction\n",
        "    img = image.load_img(path, target_size=(64, 64))\n",
        "    x = image.img_to_array(img)\n",
        "    x = np.expand_dims(x, axis=0)\n",
        "    x = x.astype('float32')/255\n",
        "    pred = np.argmax(m.predict(x))\n",
        "    print(\"It's a {}.\".format(class_labels[pred]))"
      ],
      "execution_count": 26,
      "outputs": []
    },
    {
      "cell_type": "code",
      "metadata": {
        "colab": {
          "base_uri": "https://localhost:8080/",
          "height": 265
        },
        "id": "k2IX998ZIvgM",
        "outputId": "ded42a03-28f6-4410-f4b1-70f63ac1dc25"
      },
      "source": [
        "check_1(\"/content/drive/MyDrive/datset/tr/train/ba/ba 005.jpeg\")"
      ],
      "execution_count": 27,
      "outputs": [
        {
          "output_type": "display_data",
          "data": {
            "image/png": "[encoded data removed]",
            "text/plain": [
              "<Figure size 432x288 with 1 Axes>"
            ]
          },
          "metadata": {
            "tags": [],
            "needs_background": "light"
          }
        },
        {
          "output_type": "stream",
          "text": [
            "It's a ba.\n"
          ],
          "name": "stdout"
        }
      ]
    },
    {
      "cell_type": "code",
      "metadata": {
        "colab": {
          "base_uri": "https://localhost:8080/",
          "height": 262
        },
        "id": "PG8u1eMMKGGA",
        "outputId": "4f01fc72-f313-44e8-e827-dcbdff52361d"
      },
      "source": [
        "check_1(\"/content/drive/MyDrive/datset/processed_data/test/ga/ba01-001-p0_gr_orig_sz_23.jpeg\")"
      ],
      "execution_count": 28,
      "outputs": [
        {
          "output_type": "display_data",
          "data": {
            "image/png": "[encoded data removed]",
            "text/plain": [
              "<Figure size 432x288 with 1 Axes>"
            ]
          },
          "metadata": {
            "tags": [],
            "needs_background": "light"
          }
        },
        {
          "output_type": "stream",
          "text": [
            "It's a ga.\n"
          ],
          "name": "stdout"
        }
      ]
    },
    {
      "cell_type": "code",
      "metadata": {
        "colab": {
          "base_uri": "https://localhost:8080/",
          "height": 265
        },
        "id": "BTjFFvVQKuD6",
        "outputId": "2308b5d6-a539-4621-e0d4-21b7ce0a9e3e"
      },
      "source": [
        "check_1(\"/content/drive/MyDrive/datset/processed_data/test/ka/ba01-001-p0_gr_orig_sz_377.jpeg\")"
      ],
      "execution_count": 30,
      "outputs": [
        {
          "output_type": "display_data",
          "data": {
            "image/png": "[encoded data removed]",
            "text/plain": [
              "<Figure size 432x288 with 1 Axes>"
            ]
          },
          "metadata": {
            "tags": [],
            "needs_background": "light"
          }
        },
        {
          "output_type": "stream",
          "text": [
            "It's a ka.\n"
          ],
          "name": "stdout"
        }
      ]
    },
    {
      "cell_type": "code",
      "metadata": {
        "colab": {
          "base_uri": "https://localhost:8080/",
          "height": 175
        },
        "id": "Qn4A1mclKuCz",
        "outputId": "1279ce87-b9f1-4454-a55e-fa3ac652d5c7"
      },
      "source": [
        "check_1(\"/content/drive/MyDrive/datset/processed_data/test/nya/ba01-001-p0_gr_orig_sz_601.jpeg\")"
      ],
      "execution_count": 31,
      "outputs": [
        {
          "output_type": "display_data",
          "data": {
            "image/png": "[encoded data removed]",
            "text/plain": [
              "<Figure size 432x288 with 1 Axes>"
            ]
          },
          "metadata": {
            "tags": [],
            "needs_background": "light"
          }
        },
        {
          "output_type": "stream",
          "text": [
            "It's a nya.\n"
          ],
          "name": "stdout"
        }
      ]
    },
    {
      "cell_type": "code",
      "metadata": {
        "id": "tCa42Kz-LAJU"
      },
      "source": [
        ""
      ],
      "execution_count": null,
      "outputs": []
    },
    {
      "cell_type": "code",
      "metadata": {
        "id": "IPX-8fC9LvkV"
      },
      "source": [
        ""
      ],
      "execution_count": null,
      "outputs": []
    }
  ]
}