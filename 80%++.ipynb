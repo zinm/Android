{
  "nbformat": 4,
  "nbformat_minor": 0,
  "metadata": {
    "colab": {
      "name": "Untitled9.ipynb",
      "provenance": [],
      "mount_file_id": "1jHUCG6zAbWHsnmfNuEIJ2t_OePhRUrWm",
      "authorship_tag": "ABX9TyN6rd9s1V2ah8PAVMvCHuZJ",
      "include_colab_link": true
    },
    "kernelspec": {
      "name": "python3",
      "display_name": "Python 3"
    },
    "language_info": {
      "name": "python"
    },
    "accelerator": "GPU"
  },
  "cells": [
    {
      "cell_type": "markdown",
      "metadata": {
        "id": "view-in-github",
        "colab_type": "text"
      },
      "source": [
        "<a href=\"https://colab.research.google.com/github/zinm/Android/blob/master/80%25%2B%2B.ipynb\" target=\"_parent\"><img src=\"https://colab.research.google.com/assets/colab-badge.svg\" alt=\"Open In Colab\"/></a>"
      ]
    },
    {
      "cell_type": "code",
      "metadata": {
        "id": "LrzuXaTi7C_5"
      },
      "source": [
        "from __future__ import print_function\n",
        "import keras\n",
        "from keras.preprocessing.image import ImageDataGenerator\n",
        "from keras.models import Sequential\n",
        "from keras.layers import Dense, Dropout, Activation, Flatten, Conv2D, MaxPooling2D\n",
        "import os\n",
        "import matplotlib.pyplot as plt\n",
        "import sklearn\n",
        "from sklearn.metrics import classification_report, confusion_matrix\n",
        "import numpy as np\n",
        "from keras.models import load_model\n",
        "\n",
        "from keras.optimizers import RMSprop\n",
        "from keras.callbacks import ModelCheckpoint, EarlyStopping, ReduceLROnPlateau\n",
        "\n",
        "from keras.preprocessing import image\n",
        "from os import listdir\n",
        "from os.path import isfile, join\n",
        "import re\n",
        "import matplotlib.image as mpimg"
      ],
      "execution_count": 1,
      "outputs": []
    },
    {
      "cell_type": "code",
      "metadata": {
        "colab": {
          "base_uri": "https://localhost:8080/"
        },
        "id": "hdNE2PfQ7LFy",
        "outputId": "23658ba8-c399-462b-dae0-38be54a13808"
      },
      "source": [
        "from keras.applications import VGG16\n",
        "\n",
        "# VGG16 was designed to work on 224 x 224 pixel input images sizes\n",
        "img_rows = 32\n",
        "img_cols = 32\n",
        "\n",
        "# Re-loads the VGG16 model without the top or FC layers\n",
        "vgg16 = VGG16(weights = 'imagenet', include_top = False,  input_shape = (img_rows, img_cols, 3))\n",
        "\n",
        "# Here we freeze the last 4 layers, layers are set to trainable as True by default\n",
        "for layer in vgg16.layers:\n",
        "    layer.trainable = False\n",
        "\n",
        "for (i,layer) in enumerate(vgg16.layers):\n",
        "    print(str(i) + \" \"+ layer.__class__.__name__, layer.trainable)"
      ],
      "execution_count": 21,
      "outputs": [
        {
          "output_type": "stream",
          "text": [
            "0 InputLayer False\n",
            "1 Conv2D False\n",
            "2 Conv2D False\n",
            "3 MaxPooling2D False\n",
            "4 Conv2D False\n",
            "5 Conv2D False\n",
            "6 MaxPooling2D False\n",
            "7 Conv2D False\n",
            "8 Conv2D False\n",
            "9 Conv2D False\n",
            "10 MaxPooling2D False\n",
            "11 Conv2D False\n",
            "12 Conv2D False\n",
            "13 Conv2D False\n",
            "14 MaxPooling2D False\n",
            "15 Conv2D False\n",
            "16 Conv2D False\n",
            "17 Conv2D False\n",
            "18 MaxPooling2D False\n"
          ],
          "name": "stdout"
        }
      ]
    },
    {
      "cell_type": "code",
      "metadata": {
        "colab": {
          "base_uri": "https://localhost:8080/"
        },
        "id": "gyXpFFfa7Qd9",
        "outputId": "54a11eb1-02eb-44f8-fd12-f6339df3a4f0"
      },
      "source": [
        "train_data_dir = '/content/drive/MyDrive/datset/processed_data/train'\n",
        "validation_data_dir = '/content/drive/MyDrive/datset/processed_data/val'\n",
        "\n",
        "train_datagen = ImageDataGenerator(rescale=1./255, rotation_range=20, width_shift_range=0.2, height_shift_range=0.2,\n",
        "                                   horizontal_flip=True, fill_mode='nearest')\n",
        " \n",
        "validation_datagen = ImageDataGenerator(rescale=1./255)\n",
        " \n",
        "train_batchsize = 64\n",
        "val_batchsize = 64\n",
        " \n",
        "train_generator = train_datagen.flow_from_directory(train_data_dir, target_size=(img_rows, img_cols),\n",
        "                                                    batch_size=train_batchsize, class_mode='categorical')\n",
        " \n",
        "validation_generator = validation_datagen.flow_from_directory(validation_data_dir, target_size=(img_rows, img_cols),\n",
        "                                                              batch_size=val_batchsize, class_mode='categorical', shuffle=False)"
      ],
      "execution_count": 22,
      "outputs": [
        {
          "output_type": "stream",
          "text": [
            "Found 2890 images belonging to 20 classes.\n",
            "Found 958 images belonging to 20 classes.\n"
          ],
          "name": "stdout"
        }
      ]
    },
    {
      "cell_type": "code",
      "metadata": {
        "id": "TrEU8T7g7hxI"
      },
      "source": [
        "def addTopModel(bottom_model, num_classes, D=256):\n",
        "    \"\"\"creates the top or head of the model that will be \n",
        "    placed ontop of the bottom layers\"\"\"\n",
        "    top_model = bottom_model.output\n",
        "    top_model = Flatten(name = \"flatten\")(top_model)\n",
        "    top_model = Dense(D, activation = \"relu\")(top_model)\n",
        "    top_model = Dropout(0.3)(top_model)\n",
        "    top_model = Dense(num_classes, activation = \"softmax\")(top_model)\n",
        "    return top_model"
      ],
      "execution_count": 23,
      "outputs": []
    },
    {
      "cell_type": "code",
      "metadata": {
        "colab": {
          "base_uri": "https://localhost:8080/"
        },
        "id": "FL19yGia7lJ3",
        "outputId": "07ba0770-fe58-4033-eaf6-256822162583"
      },
      "source": [
        "from keras.layers.normalization import BatchNormalization\n",
        "from keras.models import Model\n",
        "\n",
        "num_classes = 20\n",
        "\n",
        "FC_Head = addTopModel(vgg16, num_classes)\n",
        "\n",
        "model = Model(inputs=vgg16.input, outputs=FC_Head)\n",
        "\n",
        "model.summary()\n"
      ],
      "execution_count": 24,
      "outputs": [
        {
          "output_type": "stream",
          "text": [
            "Model: \"model_3\"\n",
            "_________________________________________________________________\n",
            "Layer (type)                 Output Shape              Param #   \n",
            "=================================================================\n",
            "input_4 (InputLayer)         [(None, 32, 32, 3)]       0         \n",
            "_________________________________________________________________\n",
            "block1_conv1 (Conv2D)        (None, 32, 32, 64)        1792      \n",
            "_________________________________________________________________\n",
            "block1_conv2 (Conv2D)        (None, 32, 32, 64)        36928     \n",
            "_________________________________________________________________\n",
            "block1_pool (MaxPooling2D)   (None, 16, 16, 64)        0         \n",
            "_________________________________________________________________\n",
            "block2_conv1 (Conv2D)        (None, 16, 16, 128)       73856     \n",
            "_________________________________________________________________\n",
            "block2_conv2 (Conv2D)        (None, 16, 16, 128)       147584    \n",
            "_________________________________________________________________\n",
            "block2_pool (MaxPooling2D)   (None, 8, 8, 128)         0         \n",
            "_________________________________________________________________\n",
            "block3_conv1 (Conv2D)        (None, 8, 8, 256)         295168    \n",
            "_________________________________________________________________\n",
            "block3_conv2 (Conv2D)        (None, 8, 8, 256)         590080    \n",
            "_________________________________________________________________\n",
            "block3_conv3 (Conv2D)        (None, 8, 8, 256)         590080    \n",
            "_________________________________________________________________\n",
            "block3_pool (MaxPooling2D)   (None, 4, 4, 256)         0         \n",
            "_________________________________________________________________\n",
            "block4_conv1 (Conv2D)        (None, 4, 4, 512)         1180160   \n",
            "_________________________________________________________________\n",
            "block4_conv2 (Conv2D)        (None, 4, 4, 512)         2359808   \n",
            "_________________________________________________________________\n",
            "block4_conv3 (Conv2D)        (None, 4, 4, 512)         2359808   \n",
            "_________________________________________________________________\n",
            "block4_pool (MaxPooling2D)   (None, 2, 2, 512)         0         \n",
            "_________________________________________________________________\n",
            "block5_conv1 (Conv2D)        (None, 2, 2, 512)         2359808   \n",
            "_________________________________________________________________\n",
            "block5_conv2 (Conv2D)        (None, 2, 2, 512)         2359808   \n",
            "_________________________________________________________________\n",
            "block5_conv3 (Conv2D)        (None, 2, 2, 512)         2359808   \n",
            "_________________________________________________________________\n",
            "block5_pool (MaxPooling2D)   (None, 1, 1, 512)         0         \n",
            "_________________________________________________________________\n",
            "flatten (Flatten)            (None, 512)               0         \n",
            "_________________________________________________________________\n",
            "dense_6 (Dense)              (None, 256)               131328    \n",
            "_________________________________________________________________\n",
            "dropout_3 (Dropout)          (None, 256)               0         \n",
            "_________________________________________________________________\n",
            "dense_7 (Dense)              (None, 20)                5140      \n",
            "=================================================================\n",
            "Total params: 14,851,156\n",
            "Trainable params: 136,468\n",
            "Non-trainable params: 14,714,688\n",
            "_________________________________________________________________\n"
          ],
          "name": "stdout"
        }
      ]
    },
    {
      "cell_type": "code",
      "metadata": {
        "colab": {
          "base_uri": "https://localhost:8080/"
        },
        "id": "EEqFnOQC7pln",
        "outputId": "d96843a1-cb03-4f29-afbe-735afb84cac2"
      },
      "source": [
        "checkpoint = ModelCheckpoint(\"trained_model/aksara.h5\", monitor=\"val_loss\", mode=\"min\", save_best_only = True,\n",
        "                             verbose=1)\n",
        "\n",
        "earlystop = EarlyStopping(monitor = 'val_loss',  min_delta = 0,  patience = 3, verbose = 1, restore_best_weights = True)\n",
        "\n",
        "reduce_lr = ReduceLROnPlateau(monitor = 'val_loss', factor = 0.2, patience = 3, verbose = 1, min_delta = 0.0001)\n",
        "\n",
        "callbacks = [checkpoint, reduce_lr]\n",
        "\n",
        "model.compile(loss = 'categorical_crossentropy', optimizer = RMSprop(lr = 0.001), metrics = ['accuracy'])\n",
        "\n",
        "nb_train_samples = 2890\n",
        "nb_validation_samples = 958\n",
        "epochs = 25\n",
        "batch_size = 64\n",
        "\n",
        "history = model.fit_generator(train_generator, steps_per_epoch = nb_train_samples // batch_size, epochs = epochs, \n",
        "                              callbacks = callbacks, validation_data = validation_generator,\n",
        "                              validation_steps = nb_validation_samples // batch_size)"
      ],
      "execution_count": 25,
      "outputs": [
        {
          "output_type": "stream",
          "text": [
            "/usr/local/lib/python3.7/dist-packages/tensorflow/python/keras/engine/training.py:1844: UserWarning: `Model.fit_generator` is deprecated and will be removed in a future version. Please use `Model.fit`, which supports generators.\n",
            "  warnings.warn('`Model.fit_generator` is deprecated and '\n"
          ],
          "name": "stderr"
        },
        {
          "output_type": "stream",
          "text": [
            "Epoch 1/25\n",
            "45/45 [==============================] - 7s 137ms/step - loss: 2.5288 - accuracy: 0.2233 - val_loss: 1.5860 - val_accuracy: 0.5882\n",
            "\n",
            "Epoch 00001: val_loss improved from inf to 1.58598, saving model to trained_model/aksara.h5\n",
            "Epoch 2/25\n",
            "45/45 [==============================] - 6s 129ms/step - loss: 1.7709 - accuracy: 0.4451 - val_loss: 1.1851 - val_accuracy: 0.6719\n",
            "\n",
            "Epoch 00002: val_loss improved from 1.58598 to 1.18506, saving model to trained_model/aksara.h5\n",
            "Epoch 3/25\n",
            "45/45 [==============================] - 6s 130ms/step - loss: 1.4201 - accuracy: 0.5538 - val_loss: 1.0188 - val_accuracy: 0.7031\n",
            "\n",
            "Epoch 00003: val_loss improved from 1.18506 to 1.01882, saving model to trained_model/aksara.h5\n",
            "Epoch 4/25\n",
            "45/45 [==============================] - 6s 130ms/step - loss: 1.3053 - accuracy: 0.5745 - val_loss: 0.8876 - val_accuracy: 0.7377\n",
            "\n",
            "Epoch 00004: val_loss improved from 1.01882 to 0.88757, saving model to trained_model/aksara.h5\n",
            "Epoch 5/25\n",
            "45/45 [==============================] - 6s 130ms/step - loss: 1.1605 - accuracy: 0.6315 - val_loss: 0.7769 - val_accuracy: 0.7667\n",
            "\n",
            "Epoch 00005: val_loss improved from 0.88757 to 0.77686, saving model to trained_model/aksara.h5\n",
            "Epoch 6/25\n",
            "45/45 [==============================] - 6s 132ms/step - loss: 1.1009 - accuracy: 0.6536 - val_loss: 0.6850 - val_accuracy: 0.8069\n",
            "\n",
            "Epoch 00006: val_loss improved from 0.77686 to 0.68502, saving model to trained_model/aksara.h5\n",
            "Epoch 7/25\n",
            "45/45 [==============================] - 6s 130ms/step - loss: 1.0176 - accuracy: 0.6746 - val_loss: 0.6482 - val_accuracy: 0.8069\n",
            "\n",
            "Epoch 00007: val_loss improved from 0.68502 to 0.64823, saving model to trained_model/aksara.h5\n",
            "Epoch 8/25\n",
            "45/45 [==============================] - 6s 130ms/step - loss: 0.9622 - accuracy: 0.6912 - val_loss: 0.6362 - val_accuracy: 0.8025\n",
            "\n",
            "Epoch 00008: val_loss improved from 0.64823 to 0.63620, saving model to trained_model/aksara.h5\n",
            "Epoch 9/25\n",
            "45/45 [==============================] - 6s 131ms/step - loss: 0.9406 - accuracy: 0.6883 - val_loss: 0.6138 - val_accuracy: 0.8036\n",
            "\n",
            "Epoch 00009: val_loss improved from 0.63620 to 0.61379, saving model to trained_model/aksara.h5\n",
            "Epoch 10/25\n",
            "45/45 [==============================] - 6s 129ms/step - loss: 0.8972 - accuracy: 0.7078 - val_loss: 0.5695 - val_accuracy: 0.8248\n",
            "\n",
            "Epoch 00010: val_loss improved from 0.61379 to 0.56951, saving model to trained_model/aksara.h5\n",
            "Epoch 11/25\n",
            "45/45 [==============================] - 6s 131ms/step - loss: 0.8428 - accuracy: 0.7224 - val_loss: 0.5187 - val_accuracy: 0.8259\n",
            "\n",
            "Epoch 00011: val_loss improved from 0.56951 to 0.51867, saving model to trained_model/aksara.h5\n",
            "Epoch 12/25\n",
            "45/45 [==============================] - 6s 128ms/step - loss: 0.8469 - accuracy: 0.7301 - val_loss: 0.5016 - val_accuracy: 0.8538\n",
            "\n",
            "Epoch 00012: val_loss improved from 0.51867 to 0.50160, saving model to trained_model/aksara.h5\n",
            "Epoch 13/25\n",
            "45/45 [==============================] - 6s 135ms/step - loss: 0.8221 - accuracy: 0.7240 - val_loss: 0.5615 - val_accuracy: 0.8103\n",
            "\n",
            "Epoch 00013: val_loss did not improve from 0.50160\n",
            "Epoch 14/25\n",
            "45/45 [==============================] - 6s 133ms/step - loss: 0.8034 - accuracy: 0.7467 - val_loss: 0.4884 - val_accuracy: 0.8460\n",
            "\n",
            "Epoch 00014: val_loss improved from 0.50160 to 0.48844, saving model to trained_model/aksara.h5\n",
            "Epoch 15/25\n",
            "45/45 [==============================] - 6s 129ms/step - loss: 0.8042 - accuracy: 0.7360 - val_loss: 0.4422 - val_accuracy: 0.8694\n",
            "\n",
            "Epoch 00015: val_loss improved from 0.48844 to 0.44223, saving model to trained_model/aksara.h5\n",
            "Epoch 16/25\n",
            "45/45 [==============================] - 6s 135ms/step - loss: 0.7365 - accuracy: 0.7661 - val_loss: 0.4407 - val_accuracy: 0.8549\n",
            "\n",
            "Epoch 00016: val_loss improved from 0.44223 to 0.44070, saving model to trained_model/aksara.h5\n",
            "Epoch 17/25\n",
            "45/45 [==============================] - 6s 130ms/step - loss: 0.7490 - accuracy: 0.7601 - val_loss: 0.4387 - val_accuracy: 0.8705\n",
            "\n",
            "Epoch 00017: val_loss improved from 0.44070 to 0.43867, saving model to trained_model/aksara.h5\n",
            "Epoch 18/25\n",
            "45/45 [==============================] - 6s 131ms/step - loss: 0.7416 - accuracy: 0.7410 - val_loss: 0.4081 - val_accuracy: 0.8761\n",
            "\n",
            "Epoch 00018: val_loss improved from 0.43867 to 0.40812, saving model to trained_model/aksara.h5\n",
            "Epoch 19/25\n",
            "45/45 [==============================] - 6s 134ms/step - loss: 0.7276 - accuracy: 0.7665 - val_loss: 0.4027 - val_accuracy: 0.8761\n",
            "\n",
            "Epoch 00019: val_loss improved from 0.40812 to 0.40272, saving model to trained_model/aksara.h5\n",
            "Epoch 20/25\n",
            "45/45 [==============================] - 6s 136ms/step - loss: 0.6852 - accuracy: 0.7698 - val_loss: 0.4141 - val_accuracy: 0.8728\n",
            "\n",
            "Epoch 00020: val_loss did not improve from 0.40272\n",
            "Epoch 21/25\n",
            "45/45 [==============================] - 6s 135ms/step - loss: 0.6890 - accuracy: 0.7733 - val_loss: 0.4043 - val_accuracy: 0.8850\n",
            "\n",
            "Epoch 00021: val_loss did not improve from 0.40272\n",
            "Epoch 22/25\n",
            "45/45 [==============================] - 6s 132ms/step - loss: 0.6629 - accuracy: 0.7903 - val_loss: 0.4136 - val_accuracy: 0.8783\n",
            "\n",
            "Epoch 00022: val_loss did not improve from 0.40272\n",
            "\n",
            "Epoch 00022: ReduceLROnPlateau reducing learning rate to 0.00020000000949949026.\n",
            "Epoch 23/25\n",
            "45/45 [==============================] - 6s 133ms/step - loss: 0.6751 - accuracy: 0.7872 - val_loss: 0.3696 - val_accuracy: 0.8884\n",
            "\n",
            "Epoch 00023: val_loss improved from 0.40272 to 0.36955, saving model to trained_model/aksara.h5\n",
            "Epoch 24/25\n",
            "45/45 [==============================] - 6s 132ms/step - loss: 0.5809 - accuracy: 0.8179 - val_loss: 0.3767 - val_accuracy: 0.8806\n",
            "\n",
            "Epoch 00024: val_loss did not improve from 0.36955\n",
            "Epoch 25/25\n",
            "45/45 [==============================] - 6s 130ms/step - loss: 0.6061 - accuracy: 0.8118 - val_loss: 0.3567 - val_accuracy: 0.8895\n",
            "\n",
            "Epoch 00025: val_loss improved from 0.36955 to 0.35672, saving model to trained_model/aksara.h5\n"
          ],
          "name": "stdout"
        }
      ]
    },
    {
      "cell_type": "code",
      "metadata": {
        "id": "qWCeYnh271A-"
      },
      "source": [
        "m = load_model('trained_model/aksara.h5')"
      ],
      "execution_count": 26,
      "outputs": []
    },
    {
      "cell_type": "code",
      "metadata": {
        "colab": {
          "base_uri": "https://localhost:8080/"
        },
        "id": "y8SPqT2HGXTg",
        "outputId": "13fa22e1-85db-4b34-e813-f76a79b072b2"
      },
      "source": [
        "class_labels = validation_generator.class_indices\n",
        "class_labels = {v: k for k, v in class_labels.items()}\n",
        "classes = list(class_labels.values())\n",
        "print(class_labels)"
      ],
      "execution_count": 27,
      "outputs": [
        {
          "output_type": "stream",
          "text": [
            "{0: 'a', 1: 'ba', 2: 'ca', 3: 'da', 4: 'ga', 5: 'gha', 6: 'ha', 7: 'ja', 8: 'ka', 9: 'la', 10: 'ma', 11: 'na', 12: 'nga', 13: 'nya', 14: 'pa', 15: 'ra', 16: 'sa', 17: 'ta', 18: 'wa', 19: 'ya'}\n"
          ],
          "name": "stdout"
        }
      ]
    },
    {
      "cell_type": "code",
      "metadata": {
        "colab": {
          "base_uri": "https://localhost:8080/",
          "height": 1000
        },
        "id": "Rutz1wTwGZbO",
        "outputId": "7e3ed539-d41f-4425-d402-ccc61b54fb6a"
      },
      "source": [
        "# checking model on validation data\n",
        "def getRandomImage(path, img_width, img_height):\n",
        "    \"\"\"function loads a random images from a random folder in our validation path \"\"\"\n",
        "    folders = list(filter(lambda x: os.path.isdir(os.path.join(path, x)), os.listdir(path)))\n",
        "    random_directory = np.random.randint(0,len(folders))\n",
        "    path_class = folders[random_directory]\n",
        "    file_path = path + path_class\n",
        "    file_names = [f for f in listdir(file_path) if isfile(join(file_path, f))]\n",
        "    random_file_index = np.random.randint(0,len(file_names))\n",
        "    image_name = file_names[random_file_index]\n",
        "    final_path = file_path + \"/\" + image_name\n",
        "    return image.load_img(final_path, target_size = (img_width, img_height)), final_path, path_class\n",
        "\n",
        "# dimensions of our images\n",
        "img_width, img_height = 32, 32\n",
        "\n",
        "files = []\n",
        "predictions = []\n",
        "true_labels = []\n",
        "\n",
        "# predicting images\n",
        "for i in range(0, 5):\n",
        "    path = '/content/drive/MyDrive/datset/processed_data/val/' \n",
        "    img, final_path, true_label = getRandomImage(path, img_width, img_height)\n",
        "    files.append(final_path)\n",
        "    true_labels.append(true_label)\n",
        "    x = image.img_to_array(img)\n",
        "    x = x * 1./255\n",
        "    x = np.expand_dims(x, axis=0)\n",
        "    images = np.vstack([x])\n",
        "    classes = np.argmax(m.predict(images, batch_size = 10))\n",
        "    predictions.append(classes)\n",
        "    \n",
        "for i in range(0, len(files)):\n",
        "    img=mpimg.imread((files[i]))\n",
        "    print(\"\\n(\",i+1,\")\")\n",
        "    plt.imshow(img)\n",
        "    plt.axis('off')\n",
        "    plt.show()\n",
        "    print(\"Predicted: \",class_labels[predictions[i]])\n",
        "    print(\"True: \",true_labels[i])"
      ],
      "execution_count": 28,
      "outputs": [
        {
          "output_type": "stream",
          "text": [
            "\n",
            "( 1 )\n"
          ],
          "name": "stdout"
        },
        {
          "output_type": "display_data",
          "data": {
            "image/png": "[encoded data removed]",
            "text/plain": [
              "<Figure size 432x288 with 1 Axes>"
            ]
          },
          "metadata": {
            "tags": [],
            "needs_background": "light"
          }
        },
        {
          "output_type": "stream",
          "text": [
            "Predicted:  ha\n",
            "True:  ha\n",
            "\n",
            "( 2 )\n"
          ],
          "name": "stdout"
        },
        {
          "output_type": "display_data",
          "data": {
            "image/png": "[encoded data removed]",
            "text/plain": [
              "<Figure size 432x288 with 1 Axes>"
            ]
          },
          "metadata": {
            "tags": [],
            "needs_background": "light"
          }
        },
        {
          "output_type": "stream",
          "text": [
            "Predicted:  ja\n",
            "True:  ja\n",
            "\n",
            "( 3 )\n"
          ],
          "name": "stdout"
        },
        {
          "output_type": "display_data",
          "data": {
            "image/png": "[encoded data removed]",
            "text/plain": [
              "<Figure size 432x288 with 1 Axes>"
            ]
          },
          "metadata": {
            "tags": [],
            "needs_background": "light"
          }
        },
        {
          "output_type": "stream",
          "text": [
            "Predicted:  ja\n",
            "True:  ja\n",
            "\n",
            "( 4 )\n"
          ],
          "name": "stdout"
        },
        {
          "output_type": "display_data",
          "data": {
            "image/png": "[encoded data removed]",
            "text/plain": [
              "<Figure size 432x288 with 1 Axes>"
            ]
          },
          "metadata": {
            "tags": [],
            "needs_background": "light"
          }
        },
        {
          "output_type": "stream",
          "text": [
            "Predicted:  pa\n",
            "True:  pa\n",
            "\n",
            "( 5 )\n"
          ],
          "name": "stdout"
        },
        {
          "output_type": "display_data",
          "data": {
            "image/png": "[encoded data removed]",
            "text/plain": [
              "<Figure size 432x288 with 1 Axes>"
            ]
          },
          "metadata": {
            "tags": [],
            "needs_background": "light"
          }
        },
        {
          "output_type": "stream",
          "text": [
            "Predicted:  nga\n",
            "True:  nga\n"
          ],
          "name": "stdout"
        }
      ]
    },
    {
      "cell_type": "code",
      "metadata": {
        "id": "iecSX6XaGwOe"
      },
      "source": [
        "def check_1(path):\n",
        "    img=mpimg.imread(path)\n",
        "    plt.imshow(img)\n",
        "    plt.axis('off')\n",
        "    plt.show()\n",
        "    \n",
        "    # prediction\n",
        "    img = image.load_img(path, target_size=(32, 32))\n",
        "    x = image.img_to_array(img)\n",
        "    x = np.expand_dims(x, axis=0)\n",
        "    x = x.astype('float32')/255\n",
        "    pred = np.argmax(m.predict(x))\n",
        "    print(\"It's a {}.\".format(class_labels[pred]))"
      ],
      "execution_count": 30,
      "outputs": []
    },
    {
      "cell_type": "code",
      "metadata": {
        "colab": {
          "base_uri": "https://localhost:8080/",
          "height": 265
        },
        "id": "k2IX998ZIvgM",
        "outputId": "123f3fe6-c6b2-4293-d1a3-a64a61257098"
      },
      "source": [
        "check_1(\"/content/drive/MyDrive/test/ba/ba 000.jpeg\")"
      ],
      "execution_count": 33,
      "outputs": [
        {
          "output_type": "display_data",
          "data": {
            "image/png": "[encoded data removed]",
            "text/plain": [
              "<Figure size 432x288 with 1 Axes>"
            ]
          },
          "metadata": {
            "tags": [],
            "needs_background": "light"
          }
        },
        {
          "output_type": "stream",
          "text": [
            "It's a la.\n"
          ],
          "name": "stdout"
        }
      ]
    },
    {
      "cell_type": "code",
      "metadata": {
        "colab": {
          "base_uri": "https://localhost:8080/",
          "height": 265
        },
        "id": "PG8u1eMMKGGA",
        "outputId": "96d804dc-c7ba-467c-d0e6-cc71f30fc68f"
      },
      "source": [
        "check_1(\"/content/drive/MyDrive/test/ba/ba 003.jpeg\")"
      ],
      "execution_count": 34,
      "outputs": [
        {
          "output_type": "display_data",
          "data": {
            "image/png": "[encoded data removed]",
            "text/plain": [
              "<Figure size 432x288 with 1 Axes>"
            ]
          },
          "metadata": {
            "tags": [],
            "needs_background": "light"
          }
        },
        {
          "output_type": "stream",
          "text": [
            "It's a ba.\n"
          ],
          "name": "stdout"
        }
      ]
    },
    {
      "cell_type": "code",
      "metadata": {
        "colab": {
          "base_uri": "https://localhost:8080/",
          "height": 265
        },
        "id": "BTjFFvVQKuD6",
        "outputId": "8a1cbcda-630a-4d9f-de30-5e802454cd10"
      },
      "source": [
        "check_1(\"/content/drive/MyDrive/test/ca/ca 010.jpeg\")"
      ],
      "execution_count": 36,
      "outputs": [
        {
          "output_type": "display_data",
          "data": {
            "image/png": "[encoded data removed]",
            "text/plain": [
              "<Figure size 432x288 with 1 Axes>"
            ]
          },
          "metadata": {
            "tags": [],
            "needs_background": "light"
          }
        },
        {
          "output_type": "stream",
          "text": [
            "It's a ca.\n"
          ],
          "name": "stdout"
        }
      ]
    },
    {
      "cell_type": "code",
      "metadata": {
        "colab": {
          "base_uri": "https://localhost:8080/",
          "height": 200
        },
        "id": "Qn4A1mclKuCz",
        "outputId": "19792368-8ccc-4c40-95ee-725ba229bcc9"
      },
      "source": [
        "check_1(\"/content/drive/MyDrive/test/ka/ka 014.jpeg\")"
      ],
      "execution_count": 37,
      "outputs": [
        {
          "output_type": "display_data",
          "data": {
            "image/png": "[encoded data removed]",
            "text/plain": [
              "<Figure size 432x288 with 1 Axes>"
            ]
          },
          "metadata": {
            "tags": [],
            "needs_background": "light"
          }
        },
        {
          "output_type": "stream",
          "text": [
            "It's a ka.\n"
          ],
          "name": "stdout"
        }
      ]
    },
    {
      "cell_type": "code",
      "metadata": {
        "id": "tCa42Kz-LAJU"
      },
      "source": [
        ""
      ],
      "execution_count": null,
      "outputs": []
    }
  ]
}